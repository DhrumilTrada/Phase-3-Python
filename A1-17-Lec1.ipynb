{
 "cells": [
  {
   "cell_type": "code",
   "execution_count": 4,
   "metadata": {},
   "outputs": [
    {
     "name": "stdout",
     "output_type": "stream",
     "text": [
      "Demo1.txt\n",
      "r\n",
      "Hii\n",
      "How \n",
      "Are \n",
      "you?\n"
     ]
    }
   ],
   "source": [
    "# default argument is r\n",
    "s = open(\"Demo1.txt\",\"r\")\n",
    "print(s.name)\n",
    "print(s.mode)\n",
    "data = s.read()\n",
    "print(data)\n",
    "s.close()"
   ]
  },
  {
   "cell_type": "code",
   "execution_count": 17,
   "metadata": {},
   "outputs": [
    {
     "name": "stdout",
     "output_type": "stream",
     "text": [
      "\n"
     ]
    }
   ],
   "source": [
    "f = open(\"Demo.txt\",\"w+\")\n",
    "f.write(\"Hello\\n\")\n",
    "f.write(\"Hooooo\\n\")\n",
    "f.writelines([\"Python\\n\",\"class\"])\n",
    "print(f.read())\n",
    "f.close()"
   ]
  },
  {
   "cell_type": "code",
   "execution_count": 6,
   "metadata": {},
   "outputs": [
    {
     "name": "stdout",
     "output_type": "stream",
     "text": [
      "False\n"
     ]
    },
    {
     "ename": "ValueError",
     "evalue": "I/O operation on closed file",
     "output_type": "error",
     "traceback": [
      "\u001b[1;31m---------------------------------------------------------------------------\u001b[0m",
      "\u001b[1;31mValueError\u001b[0m                                Traceback (most recent call last)",
      "\u001b[1;32m<ipython-input-6-90f087f4837f>\u001b[0m in \u001b[0;36m<module>\u001b[1;34m\u001b[0m\n\u001b[0;32m      3\u001b[0m \u001b[0mprint\u001b[0m\u001b[1;33m(\u001b[0m\u001b[0mf1\u001b[0m\u001b[1;33m.\u001b[0m\u001b[0mreadable\u001b[0m\u001b[1;33m(\u001b[0m\u001b[1;33m)\u001b[0m\u001b[1;33m)\u001b[0m\u001b[1;33m\u001b[0m\u001b[1;33m\u001b[0m\u001b[0m\n\u001b[0;32m      4\u001b[0m \u001b[0mf1\u001b[0m\u001b[1;33m.\u001b[0m\u001b[0mclose\u001b[0m\u001b[1;33m(\u001b[0m\u001b[1;33m)\u001b[0m\u001b[1;33m\u001b[0m\u001b[1;33m\u001b[0m\u001b[0m\n\u001b[1;32m----> 5\u001b[1;33m \u001b[0mprint\u001b[0m\u001b[1;33m(\u001b[0m\u001b[0mf1\u001b[0m\u001b[1;33m.\u001b[0m\u001b[0mwritable\u001b[0m\u001b[1;33m(\u001b[0m\u001b[1;33m)\u001b[0m\u001b[1;33m)\u001b[0m\u001b[1;33m\u001b[0m\u001b[1;33m\u001b[0m\u001b[0m\n\u001b[0m",
      "\u001b[1;31mValueError\u001b[0m: I/O operation on closed file"
     ]
    }
   ],
   "source": [
    "f1 = open(\"Demo1.txt\",\"a\")\n",
    "f1.write(\"\\nABC\")\n",
    "print(f1.readable())\n",
    "print(f1.writable())\n",
    "f1.close()"
   ]
  },
  {
   "cell_type": "code",
   "execution_count": 48,
   "metadata": {},
   "outputs": [
    {
     "name": "stdout",
     "output_type": "stream",
     "text": [
      "['Hii how are you am fine\\n']\n",
      "['How \\n', 'Are \\n']\n",
      "['you?ABC\\n', 'ABC\\n']\n"
     ]
    }
   ],
   "source": [
    "f1 = open(\"Demo1.txt\",\"r\")\n",
    "# print(f1.readline(3))\n",
    "# print(f1.readline(5))\n",
    "# print(f1.readlines())\n",
    "print(f1.readlines(3))\n",
    "print(f1.readlines(5))\n",
    "print(f1.readlines(8))\n",
    "f1.close()"
   ]
  },
  {
   "cell_type": "code",
   "execution_count": 69,
   "metadata": {},
   "outputs": [
    {
     "name": "stdout",
     "output_type": "stream",
     "text": [
      "list1 = [1, 2, 3]\n",
      "print(\"List1 before deleting is : \"\n",
      "\t+ str(list1))\n",
      "list1 = []\n",
      "print(\"List1 after clearing using reinitialization : \"\n",
      "\t+ str(list1))\n"
     ]
    }
   ],
   "source": [
    "# WAP to dispaly all lines of file except that starts with a #\n",
    "f = open(\"Demo1.txt\",\"r\")\n",
    "for i in f:\n",
    "    a = i.find(\"#\") \n",
    "    if a==-1:\n",
    "        print(i,end=\"\")\n",
    "    else:\n",
    "        print(i[0:a],end=\"\")"
   ]
  },
  {
   "cell_type": "code",
   "execution_count": 50,
   "metadata": {},
   "outputs": [
    {
     "name": "stdout",
     "output_type": "stream",
     "text": [
      "--------e--------\n",
      "------e-d-e------\n",
      "----e-d-c-d-e----\n",
      "--e-d-c-b-c-d-e--\n",
      "e-d-c-b-a-b-c-d-e\n"
     ]
    }
   ],
   "source": [
    "n = 5\n",
    "str = chr(96+n)\n",
    "str1 = chr(96+n)\n",
    "sr = \"\"\n",
    "for i in range(n,0,-1):\n",
    "    print(str1.center((4*n)-3,\"-\"))\n",
    "    sr = \"-\"+chr(96+i)+sr\n",
    "    str += \"-\"+chr(96+i-1)\n",
    "    str1 = str+sr"
   ]
  }
 ],
 "metadata": {
  "kernelspec": {
   "display_name": "Python 3",
   "language": "python",
   "name": "python3"
  },
  "language_info": {
   "codemirror_mode": {
    "name": "ipython",
    "version": 3
   },
   "file_extension": ".py",
   "mimetype": "text/x-python",
   "name": "python",
   "nbconvert_exporter": "python",
   "pygments_lexer": "ipython3",
   "version": "3.8.5"
  }
 },
 "nbformat": 4,
 "nbformat_minor": 4
}
