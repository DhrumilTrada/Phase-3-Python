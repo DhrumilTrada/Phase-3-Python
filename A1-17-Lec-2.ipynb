{
 "cells": [
  {
   "cell_type": "code",
   "execution_count": 3,
   "metadata": {},
   "outputs": [
    {
     "name": "stdout",
     "output_type": "stream",
     "text": [
      "Hii \n",
      "Hello\n",
      "How are you?\n",
      "\n",
      "Hii \n",
      "Hello\n",
      "How are you?\n",
      "Nice\n"
     ]
    }
   ],
   "source": [
    "f = open(\"Demo1.txt\", \"r+\")\n",
    "print(f.read())\n",
    "f.write(\"\\nNice\")\n",
    "print(f.read()) # will not read as cursor is at end\n",
    "f.seek(0)\n",
    "print(f.read())\n",
    "f.close()"
   ]
  },
  {
   "cell_type": "code",
   "execution_count": 8,
   "metadata": {},
   "outputs": [],
   "source": [
    "f = open(\"Demo1.txt\", \"r+\")\n",
    "f.write(\"ABCD\")\n",
    "f.close()"
   ]
  },
  {
   "cell_type": "code",
   "execution_count": 11,
   "metadata": {},
   "outputs": [
    {
     "name": "stdout",
     "output_type": "stream",
     "text": [
      "ABCD\n",
      "ABCDDEFG\n",
      "HIJKLMNO\n"
     ]
    }
   ],
   "source": [
    "f = open(\"Demo2.txt\", \"w+\")\n",
    "f.write(\"ABCD\")\n",
    "f.writelines([\"\\nABCD\",\"DEFG\",\"\\nHIJK\",\"LMNO\"])\n",
    "f.seek(0)\n",
    "print(f.read())\n",
    "f.close()"
   ]
  },
  {
   "cell_type": "code",
   "execution_count": 20,
   "metadata": {},
   "outputs": [
    {
     "name": "stdout",
     "output_type": "stream",
     "text": [
      "ABCD\n",
      "ABCDDEFG\n",
      "HIJKLMNO\n",
      "Hiii\n",
      "Hiii\n"
     ]
    }
   ],
   "source": [
    "f = open(\"Demo2.txt\",\"a+\")\n",
    "f.seek(0)\n",
    "print(f.read())\n",
    "# f.seek(0)\n",
    "# f.write(\"\\nHiii\")\n",
    "# print(f.read())\n",
    "f.close()"
   ]
  },
  {
   "cell_type": "code",
   "execution_count": 46,
   "metadata": {},
   "outputs": [],
   "source": [
    "f = open(\"Demo.txt\",\"r\")\n",
    "f1 = open(\"Demo1.txt\",\"r\")\n",
    "f2 = open(\"Final.txt\",\"w+\")\n",
    "fle = len(f.readlines())\n",
    "fle1 = len(f1.readlines())\n",
    "f.seek(0)\n",
    "f1.seek(0)\n",
    "for i in range(max(fle,fle1)):\n",
    "    if i<min(fle,fle1):\n",
    "        f2.writelines([f1.readline(),f.readline()])\n",
    "    else:\n",
    "        f2.write(f1.readline())\n",
    "f.close()\n",
    "f1.close()\n",
    "f2.close()"
   ]
  },
  {
   "cell_type": "code",
   "execution_count": 4,
   "metadata": {},
   "outputs": [
    {
     "name": "stdout",
     "output_type": "stream",
     "text": [
      "['deified', 'rotator', 'dfdf', 'deed', 'peep', 'wow', 'noon', 'civic', 'gdf', 'dfdf', 'mnj', 'dfdf']\n",
      "['deified', 'rotator', 'civic', 'deed', 'peep', 'noon', 'wow']\n"
     ]
    }
   ],
   "source": [
    "# find a prg to write longest palindrome from given file\n",
    "f1 = open(\"Final.txt\",\"r\")\n",
    "words = []\n",
    "word = []\n",
    "for i in f1:\n",
    "    words.extend(i.split())\n",
    "print(words)\n",
    "for i,j in enumerate(words):\n",
    "    if j == j[::-1]:\n",
    "        word.append(j)\n",
    "word = sorted(word,key=lambda x: len(x),reverse=True)\n",
    "print(word)\n",
    "f1.close()"
   ]
  },
  {
   "cell_type": "code",
   "execution_count": null,
   "metadata": {},
   "outputs": [
    {
     "name": "stdout",
     "output_type": "stream",
     "text": [
      "1\n",
      "2\n",
      "3\n",
      "4\n",
      "5\n",
      "Enter or quit:\n",
      "6\n",
      "7\n",
      "8\n",
      "9\n",
      "10\n",
      "Enter or quit:\n",
      "11\n",
      "12\n",
      "13\n",
      "14\n",
      "15\n",
      "Enter or quit:\n",
      "16\n",
      "17\n",
      "18\n",
      "19\n",
      "20\n",
      "Enter or quit:\n",
      "21Enter or quit:\n",
      "Enter or quit:\n",
      "Enter or quit:\n",
      "Enter or quit:\n",
      "Enter or quit:\n",
      "Enter or quit:\n",
      "Enter or quit:\n",
      "Enter or quit:\n",
      "Enter or quit:\n",
      "Enter or quit:\n",
      "Enter or quit:\n",
      "Enter or quit:\n",
      "Enter or quit:\n",
      "Enter or quit:\n",
      "Enter or quit:\n",
      "Enter or quit:\n",
      "Enter or quit:\n",
      "Enter or quit:\n",
      "Enter or quit:\n",
      "Enter or quit:\n",
      "Enter or quit:\n",
      "Enter or quit:\n",
      "Enter or quit:\n",
      "Enter or quit:\n",
      "Enter or quit:\n"
     ]
    }
   ],
   "source": [
    "def printLine(f,x,count):\n",
    "    cc = x\n",
    "    for i in range(5):\n",
    "        print(f.readline(),end=\"\")\n",
    "        count+=1\n",
    "    inp = input(\"Enter or quit:\")\n",
    "    if inp!=\"quit\" and count!=x:\n",
    "        count += 1\n",
    "        printLine(f,cc,count)\n",
    "    else:\n",
    "        pass \n",
    "f = open(\"Pager.txt\",\"r\")\n",
    "x = len(f.readlines())\n",
    "count = 0\n",
    "f.seek(0)\n",
    "printLine(f,x,count)"
   ]
  }
 ],
 "metadata": {
  "kernelspec": {
   "display_name": "Python 3",
   "language": "python",
   "name": "python3"
  },
  "language_info": {
   "codemirror_mode": {
    "name": "ipython",
    "version": 3
   },
   "file_extension": ".py",
   "mimetype": "text/x-python",
   "name": "python",
   "nbconvert_exporter": "python",
   "pygments_lexer": "ipython3",
   "version": "3.8.5"
  }
 },
 "nbformat": 4,
 "nbformat_minor": 4
}
